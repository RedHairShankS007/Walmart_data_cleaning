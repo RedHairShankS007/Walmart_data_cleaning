{
  "metadata": {
    "kernelspec": {
      "name": "python",
      "display_name": "Python (Pyodide)",
      "language": "python"
    },
    "language_info": {
      "codemirror_mode": {
        "name": "python",
        "version": 3
      },
      "file_extension": ".py",
      "mimetype": "text/x-python",
      "name": "python",
      "nbconvert_exporter": "python",
      "pygments_lexer": "ipython3",
      "version": "3.8"
    }
  },
  "nbformat_minor": 5,
  "nbformat": 4,
  "cells": [
    {
      "id": "36df405d-5d42-4196-b0ac-cf6edd83f63e",
      "cell_type": "code",
      "source": "# Core libraries\nfrom sqlalchemy import create_engine\nimport pandas as pd\nimport os\nimport numpy as np\n# Create SQLite connection engine\nengine = create_engine('sqlite:///walmart.db')",
      "metadata": {
        "trusted": true
      },
      "outputs": [],
      "execution_count": 25
    },
    {
      "id": "5f352b8c-ff23-479a-8af9-7158f7fa7c34",
      "cell_type": "code",
      "source": "df = pd.read_csv('Walmart.csv')",
      "metadata": {
        "trusted": true
      },
      "outputs": [],
      "execution_count": 3
    },
    {
      "id": "67e537b5-0376-4518-b1f5-5cf9559d1cf8",
      "cell_type": "code",
      "source": "df.head()",
      "metadata": {
        "trusted": true
      },
      "outputs": [
        {
          "execution_count": 6,
          "output_type": "execute_result",
          "data": {
            "text/plain": "   invoice_id   Branch         City                category unit_price  \\\n0           1  WALM003  San Antonio       Health and beauty     $74.69   \n1           2  WALM048    Harlingen  Electronic accessories     $15.28   \n2           3  WALM067  Haltom City      Home and lifestyle     $46.33   \n3           4  WALM064      Bedford       Health and beauty     $58.22   \n4           5  WALM013       Irving       Sports and travel     $86.31   \n\n   quantity      date      time payment_method  rating  profit_margin  \n0       7.0  05/01/19  13:08:00        Ewallet     9.1           0.48  \n1       5.0  08/03/19  10:29:00           Cash     9.6           0.48  \n2       7.0  03/03/19  13:23:00    Credit card     7.4           0.33  \n3       8.0  27/01/19  20:33:00        Ewallet     8.4           0.33  \n4       7.0  08/02/19  10:37:00        Ewallet     5.3           0.48  ",
            "text/html": "<div>\n<style scoped>\n    .dataframe tbody tr th:only-of-type {\n        vertical-align: middle;\n    }\n\n    .dataframe tbody tr th {\n        vertical-align: top;\n    }\n\n    .dataframe thead th {\n        text-align: right;\n    }\n</style>\n<table border=\"1\" class=\"dataframe\">\n  <thead>\n    <tr style=\"text-align: right;\">\n      <th></th>\n      <th>invoice_id</th>\n      <th>Branch</th>\n      <th>City</th>\n      <th>category</th>\n      <th>unit_price</th>\n      <th>quantity</th>\n      <th>date</th>\n      <th>time</th>\n      <th>payment_method</th>\n      <th>rating</th>\n      <th>profit_margin</th>\n    </tr>\n  </thead>\n  <tbody>\n    <tr>\n      <th>0</th>\n      <td>1</td>\n      <td>WALM003</td>\n      <td>San Antonio</td>\n      <td>Health and beauty</td>\n      <td>$74.69</td>\n      <td>7.0</td>\n      <td>05/01/19</td>\n      <td>13:08:00</td>\n      <td>Ewallet</td>\n      <td>9.1</td>\n      <td>0.48</td>\n    </tr>\n    <tr>\n      <th>1</th>\n      <td>2</td>\n      <td>WALM048</td>\n      <td>Harlingen</td>\n      <td>Electronic accessories</td>\n      <td>$15.28</td>\n      <td>5.0</td>\n      <td>08/03/19</td>\n      <td>10:29:00</td>\n      <td>Cash</td>\n      <td>9.6</td>\n      <td>0.48</td>\n    </tr>\n    <tr>\n      <th>2</th>\n      <td>3</td>\n      <td>WALM067</td>\n      <td>Haltom City</td>\n      <td>Home and lifestyle</td>\n      <td>$46.33</td>\n      <td>7.0</td>\n      <td>03/03/19</td>\n      <td>13:23:00</td>\n      <td>Credit card</td>\n      <td>7.4</td>\n      <td>0.33</td>\n    </tr>\n    <tr>\n      <th>3</th>\n      <td>4</td>\n      <td>WALM064</td>\n      <td>Bedford</td>\n      <td>Health and beauty</td>\n      <td>$58.22</td>\n      <td>8.0</td>\n      <td>27/01/19</td>\n      <td>20:33:00</td>\n      <td>Ewallet</td>\n      <td>8.4</td>\n      <td>0.33</td>\n    </tr>\n    <tr>\n      <th>4</th>\n      <td>5</td>\n      <td>WALM013</td>\n      <td>Irving</td>\n      <td>Sports and travel</td>\n      <td>$86.31</td>\n      <td>7.0</td>\n      <td>08/02/19</td>\n      <td>10:37:00</td>\n      <td>Ewallet</td>\n      <td>5.3</td>\n      <td>0.48</td>\n    </tr>\n  </tbody>\n</table>\n</div>"
          },
          "metadata": {}
        }
      ],
      "execution_count": 6
    },
    {
      "id": "1484ab0f-028d-4ef6-87aa-5cd7077514a4",
      "cell_type": "code",
      "source": "df.shape # How many rows and coloumn dataset contains ",
      "metadata": {
        "trusted": true
      },
      "outputs": [
        {
          "execution_count": 7,
          "output_type": "execute_result",
          "data": {
            "text/plain": "(10051, 11)"
          },
          "metadata": {}
        }
      ],
      "execution_count": 7
    },
    {
      "id": "ec86a13f-301b-42d3-b44e-12917ec0cec8",
      "cell_type": "code",
      "source": "df.describe() # Normal statistics  ",
      "metadata": {
        "trusted": true
      },
      "outputs": [
        {
          "execution_count": 8,
          "output_type": "execute_result",
          "data": {
            "text/plain": "         invoice_id      quantity        rating  profit_margin\ncount  10051.000000  10020.000000  10051.000000   10051.000000\nmean    5025.741220      2.353493      5.825659       0.393791\nstd     2901.174372      1.602658      1.763991       0.090669\nmin        1.000000      1.000000      3.000000       0.180000\n25%     2513.500000      1.000000      4.000000       0.330000\n50%     5026.000000      2.000000      6.000000       0.330000\n75%     7538.500000      3.000000      7.000000       0.480000\nmax    10000.000000     10.000000     10.000000       0.570000",
            "text/html": "<div>\n<style scoped>\n    .dataframe tbody tr th:only-of-type {\n        vertical-align: middle;\n    }\n\n    .dataframe tbody tr th {\n        vertical-align: top;\n    }\n\n    .dataframe thead th {\n        text-align: right;\n    }\n</style>\n<table border=\"1\" class=\"dataframe\">\n  <thead>\n    <tr style=\"text-align: right;\">\n      <th></th>\n      <th>invoice_id</th>\n      <th>quantity</th>\n      <th>rating</th>\n      <th>profit_margin</th>\n    </tr>\n  </thead>\n  <tbody>\n    <tr>\n      <th>count</th>\n      <td>10051.000000</td>\n      <td>10020.000000</td>\n      <td>10051.000000</td>\n      <td>10051.000000</td>\n    </tr>\n    <tr>\n      <th>mean</th>\n      <td>5025.741220</td>\n      <td>2.353493</td>\n      <td>5.825659</td>\n      <td>0.393791</td>\n    </tr>\n    <tr>\n      <th>std</th>\n      <td>2901.174372</td>\n      <td>1.602658</td>\n      <td>1.763991</td>\n      <td>0.090669</td>\n    </tr>\n    <tr>\n      <th>min</th>\n      <td>1.000000</td>\n      <td>1.000000</td>\n      <td>3.000000</td>\n      <td>0.180000</td>\n    </tr>\n    <tr>\n      <th>25%</th>\n      <td>2513.500000</td>\n      <td>1.000000</td>\n      <td>4.000000</td>\n      <td>0.330000</td>\n    </tr>\n    <tr>\n      <th>50%</th>\n      <td>5026.000000</td>\n      <td>2.000000</td>\n      <td>6.000000</td>\n      <td>0.330000</td>\n    </tr>\n    <tr>\n      <th>75%</th>\n      <td>7538.500000</td>\n      <td>3.000000</td>\n      <td>7.000000</td>\n      <td>0.480000</td>\n    </tr>\n    <tr>\n      <th>max</th>\n      <td>10000.000000</td>\n      <td>10.000000</td>\n      <td>10.000000</td>\n      <td>0.570000</td>\n    </tr>\n  </tbody>\n</table>\n</div>"
          },
          "metadata": {}
        }
      ],
      "execution_count": 8
    },
    {
      "id": "cb685061-67d6-4bce-89ee-1ebe2907ffc2",
      "cell_type": "markdown",
      "source": "# DATA CLEANING AND PREPARTION USING PANDAS ",
      "metadata": {}
    },
    {
      "id": "3fdd6525-295c-43a5-8483-b3997536c9f9",
      "cell_type": "code",
      "source": "df.info()  # to check data type of each coloumn ",
      "metadata": {
        "trusted": true
      },
      "outputs": [
        {
          "name": "stdout",
          "output_type": "stream",
          "text": "<class 'pandas.core.frame.DataFrame'>\nRangeIndex: 10051 entries, 0 to 10050\nData columns (total 11 columns):\n #   Column          Non-Null Count  Dtype  \n---  ------          --------------  -----  \n 0   invoice_id      10051 non-null  int64  \n 1   Branch          10051 non-null  object \n 2   City            10051 non-null  object \n 3   category        10051 non-null  object \n 4   unit_price      10020 non-null  object \n 5   quantity        10020 non-null  float64\n 6   date            10051 non-null  object \n 7   time            10051 non-null  object \n 8   payment_method  10051 non-null  object \n 9   rating          10051 non-null  float64\n 10  profit_margin   10051 non-null  float64\ndtypes: float64(3), int64(1), object(7)\nmemory usage: 589.0+ KB\n"
        }
      ],
      "execution_count": 9
    },
    {
      "id": "b9b25588-aeb9-40b5-818d-02bd22bf6ee3",
      "cell_type": "code",
      "source": "df.duplicated().sum() # to check duplicates ",
      "metadata": {
        "trusted": true
      },
      "outputs": [
        {
          "execution_count": 11,
          "output_type": "execute_result",
          "data": {
            "text/plain": "np.int64(51)"
          },
          "metadata": {}
        }
      ],
      "execution_count": 11
    },
    {
      "id": "f2df95d5-9761-4207-a0ac-d738a0bac17c",
      "cell_type": "code",
      "source": "df.isnull().sum()   # to check whether any coloumn contains null data or not ",
      "metadata": {
        "trusted": true
      },
      "outputs": [
        {
          "execution_count": 12,
          "output_type": "execute_result",
          "data": {
            "text/plain": "invoice_id         0\nBranch             0\nCity               0\ncategory           0\nunit_price        31\nquantity          31\ndate               0\ntime               0\npayment_method     0\nrating             0\nprofit_margin      0\ndtype: int64"
          },
          "metadata": {}
        }
      ],
      "execution_count": 12
    },
    {
      "id": "61de6803-a14c-48bb-b6fd-cc6f5160207f",
      "cell_type": "code",
      "source": "df.drop_duplicates(inplace = True) # Removing all the duplicate values from the table ",
      "metadata": {
        "trusted": true
      },
      "outputs": [],
      "execution_count": 13
    },
    {
      "id": "704e5a09-bbba-4220-a709-7333e5bea95b",
      "cell_type": "code",
      "source": "df.duplicated().sum() # Again checking for any remaining duplicates ",
      "metadata": {
        "trusted": true
      },
      "outputs": [
        {
          "execution_count": 14,
          "output_type": "execute_result",
          "data": {
            "text/plain": "np.int64(0)"
          },
          "metadata": {}
        }
      ],
      "execution_count": 14
    },
    {
      "id": "553531bc-a092-4287-9a78-2a28753a7c5f",
      "cell_type": "code",
      "source": "df.shape",
      "metadata": {
        "trusted": true
      },
      "outputs": [
        {
          "execution_count": 16,
          "output_type": "execute_result",
          "data": {
            "text/plain": "(10000, 11)"
          },
          "metadata": {}
        }
      ],
      "execution_count": 16
    },
    {
      "id": "bcc4ef12-6fa0-4e45-95da-7b0271e82724",
      "cell_type": "code",
      "source": "# Droping all rows wtih missing data \ndf.dropna(inplace =  True)",
      "metadata": {
        "trusted": true
      },
      "outputs": [],
      "execution_count": 17
    },
    {
      "id": "06997a61-db31-4ec9-a623-cfd8ef88c651",
      "cell_type": "code",
      "source": "df.isnull().sum() # Checking for any remaining coloumn which contians any null value",
      "metadata": {
        "trusted": true
      },
      "outputs": [
        {
          "execution_count": 18,
          "output_type": "execute_result",
          "data": {
            "text/plain": "invoice_id        0\nBranch            0\nCity              0\ncategory          0\nunit_price        0\nquantity          0\ndate              0\ntime              0\npayment_method    0\nrating            0\nprofit_margin     0\ndtype: int64"
          },
          "metadata": {}
        }
      ],
      "execution_count": 18
    },
    {
      "id": "4cd9e09f-51b8-4704-91b6-f55d8279dfd0",
      "cell_type": "markdown",
      "source": "#IMPORTANT STEP-We want to convert data type of coloumn 'unit_price' into float but the main problem is that it contians $ sign which is not numerical\n",
      "metadata": {}
    },
    {
      "id": "4793eb9d-02c2-4f8c-ac32-66635643eb6c",
      "cell_type": "code",
      "source": "df['unit_price'] = df['unit_price'].str.replace('$','').astype(float)\ndf.head()\n# Now we can see that '$' sign has been removed from \"unit_price\" coloumn values ",
      "metadata": {
        "trusted": true
      },
      "outputs": [
        {
          "execution_count": 19,
          "output_type": "execute_result",
          "data": {
            "text/plain": "   invoice_id   Branch         City                category  unit_price  \\\n0           1  WALM003  San Antonio       Health and beauty       74.69   \n1           2  WALM048    Harlingen  Electronic accessories       15.28   \n2           3  WALM067  Haltom City      Home and lifestyle       46.33   \n3           4  WALM064      Bedford       Health and beauty       58.22   \n4           5  WALM013       Irving       Sports and travel       86.31   \n\n   quantity      date      time payment_method  rating  profit_margin  \n0       7.0  05/01/19  13:08:00        Ewallet     9.1           0.48  \n1       5.0  08/03/19  10:29:00           Cash     9.6           0.48  \n2       7.0  03/03/19  13:23:00    Credit card     7.4           0.33  \n3       8.0  27/01/19  20:33:00        Ewallet     8.4           0.33  \n4       7.0  08/02/19  10:37:00        Ewallet     5.3           0.48  ",
            "text/html": "<div>\n<style scoped>\n    .dataframe tbody tr th:only-of-type {\n        vertical-align: middle;\n    }\n\n    .dataframe tbody tr th {\n        vertical-align: top;\n    }\n\n    .dataframe thead th {\n        text-align: right;\n    }\n</style>\n<table border=\"1\" class=\"dataframe\">\n  <thead>\n    <tr style=\"text-align: right;\">\n      <th></th>\n      <th>invoice_id</th>\n      <th>Branch</th>\n      <th>City</th>\n      <th>category</th>\n      <th>unit_price</th>\n      <th>quantity</th>\n      <th>date</th>\n      <th>time</th>\n      <th>payment_method</th>\n      <th>rating</th>\n      <th>profit_margin</th>\n    </tr>\n  </thead>\n  <tbody>\n    <tr>\n      <th>0</th>\n      <td>1</td>\n      <td>WALM003</td>\n      <td>San Antonio</td>\n      <td>Health and beauty</td>\n      <td>74.69</td>\n      <td>7.0</td>\n      <td>05/01/19</td>\n      <td>13:08:00</td>\n      <td>Ewallet</td>\n      <td>9.1</td>\n      <td>0.48</td>\n    </tr>\n    <tr>\n      <th>1</th>\n      <td>2</td>\n      <td>WALM048</td>\n      <td>Harlingen</td>\n      <td>Electronic accessories</td>\n      <td>15.28</td>\n      <td>5.0</td>\n      <td>08/03/19</td>\n      <td>10:29:00</td>\n      <td>Cash</td>\n      <td>9.6</td>\n      <td>0.48</td>\n    </tr>\n    <tr>\n      <th>2</th>\n      <td>3</td>\n      <td>WALM067</td>\n      <td>Haltom City</td>\n      <td>Home and lifestyle</td>\n      <td>46.33</td>\n      <td>7.0</td>\n      <td>03/03/19</td>\n      <td>13:23:00</td>\n      <td>Credit card</td>\n      <td>7.4</td>\n      <td>0.33</td>\n    </tr>\n    <tr>\n      <th>3</th>\n      <td>4</td>\n      <td>WALM064</td>\n      <td>Bedford</td>\n      <td>Health and beauty</td>\n      <td>58.22</td>\n      <td>8.0</td>\n      <td>27/01/19</td>\n      <td>20:33:00</td>\n      <td>Ewallet</td>\n      <td>8.4</td>\n      <td>0.33</td>\n    </tr>\n    <tr>\n      <th>4</th>\n      <td>5</td>\n      <td>WALM013</td>\n      <td>Irving</td>\n      <td>Sports and travel</td>\n      <td>86.31</td>\n      <td>7.0</td>\n      <td>08/02/19</td>\n      <td>10:37:00</td>\n      <td>Ewallet</td>\n      <td>5.3</td>\n      <td>0.48</td>\n    </tr>\n  </tbody>\n</table>\n</div>"
          },
          "metadata": {}
        }
      ],
      "execution_count": 19
    },
    {
      "id": "ee4f3c34-5333-429d-9418-9929572d4649",
      "cell_type": "code",
      "source": "df.info() # LOOK AT 'unit_price' column datatype has changed into float.",
      "metadata": {
        "trusted": true
      },
      "outputs": [
        {
          "name": "stdout",
          "output_type": "stream",
          "text": "<class 'pandas.core.frame.DataFrame'>\nIndex: 9969 entries, 0 to 9999\nData columns (total 11 columns):\n #   Column          Non-Null Count  Dtype  \n---  ------          --------------  -----  \n 0   invoice_id      9969 non-null   int64  \n 1   Branch          9969 non-null   object \n 2   City            9969 non-null   object \n 3   category        9969 non-null   object \n 4   unit_price      9969 non-null   float64\n 5   quantity        9969 non-null   float64\n 6   date            9969 non-null   object \n 7   time            9969 non-null   object \n 8   payment_method  9969 non-null   object \n 9   rating          9969 non-null   float64\n 10  profit_margin   9969 non-null   float64\ndtypes: float64(4), int64(1), object(6)\nmemory usage: 700.9+ KB\n"
        }
      ],
      "execution_count": 20
    },
    {
      "id": "88b7b8dc-44ba-48ca-8f03-1d7e0dfdda03",
      "cell_type": "code",
      "source": "# ADDING A NEW COLUMN 'total' WHICH WILL SHOW THE TOTAL AMOUNT = unit_price*quantity\ndf['total'] = df['unit_price']*df['quantity']\ndf.head() \n# We are clearly able to see that our table now contain a new coloumn named by 'total'\n# NOW all the data cleaning has finished",
      "metadata": {
        "trusted": true
      },
      "outputs": [
        {
          "execution_count": 21,
          "output_type": "execute_result",
          "data": {
            "text/plain": "   invoice_id   Branch         City                category  unit_price  \\\n0           1  WALM003  San Antonio       Health and beauty       74.69   \n1           2  WALM048    Harlingen  Electronic accessories       15.28   \n2           3  WALM067  Haltom City      Home and lifestyle       46.33   \n3           4  WALM064      Bedford       Health and beauty       58.22   \n4           5  WALM013       Irving       Sports and travel       86.31   \n\n   quantity      date      time payment_method  rating  profit_margin   total  \n0       7.0  05/01/19  13:08:00        Ewallet     9.1           0.48  522.83  \n1       5.0  08/03/19  10:29:00           Cash     9.6           0.48   76.40  \n2       7.0  03/03/19  13:23:00    Credit card     7.4           0.33  324.31  \n3       8.0  27/01/19  20:33:00        Ewallet     8.4           0.33  465.76  \n4       7.0  08/02/19  10:37:00        Ewallet     5.3           0.48  604.17  ",
            "text/html": "<div>\n<style scoped>\n    .dataframe tbody tr th:only-of-type {\n        vertical-align: middle;\n    }\n\n    .dataframe tbody tr th {\n        vertical-align: top;\n    }\n\n    .dataframe thead th {\n        text-align: right;\n    }\n</style>\n<table border=\"1\" class=\"dataframe\">\n  <thead>\n    <tr style=\"text-align: right;\">\n      <th></th>\n      <th>invoice_id</th>\n      <th>Branch</th>\n      <th>City</th>\n      <th>category</th>\n      <th>unit_price</th>\n      <th>quantity</th>\n      <th>date</th>\n      <th>time</th>\n      <th>payment_method</th>\n      <th>rating</th>\n      <th>profit_margin</th>\n      <th>total</th>\n    </tr>\n  </thead>\n  <tbody>\n    <tr>\n      <th>0</th>\n      <td>1</td>\n      <td>WALM003</td>\n      <td>San Antonio</td>\n      <td>Health and beauty</td>\n      <td>74.69</td>\n      <td>7.0</td>\n      <td>05/01/19</td>\n      <td>13:08:00</td>\n      <td>Ewallet</td>\n      <td>9.1</td>\n      <td>0.48</td>\n      <td>522.83</td>\n    </tr>\n    <tr>\n      <th>1</th>\n      <td>2</td>\n      <td>WALM048</td>\n      <td>Harlingen</td>\n      <td>Electronic accessories</td>\n      <td>15.28</td>\n      <td>5.0</td>\n      <td>08/03/19</td>\n      <td>10:29:00</td>\n      <td>Cash</td>\n      <td>9.6</td>\n      <td>0.48</td>\n      <td>76.40</td>\n    </tr>\n    <tr>\n      <th>2</th>\n      <td>3</td>\n      <td>WALM067</td>\n      <td>Haltom City</td>\n      <td>Home and lifestyle</td>\n      <td>46.33</td>\n      <td>7.0</td>\n      <td>03/03/19</td>\n      <td>13:23:00</td>\n      <td>Credit card</td>\n      <td>7.4</td>\n      <td>0.33</td>\n      <td>324.31</td>\n    </tr>\n    <tr>\n      <th>3</th>\n      <td>4</td>\n      <td>WALM064</td>\n      <td>Bedford</td>\n      <td>Health and beauty</td>\n      <td>58.22</td>\n      <td>8.0</td>\n      <td>27/01/19</td>\n      <td>20:33:00</td>\n      <td>Ewallet</td>\n      <td>8.4</td>\n      <td>0.33</td>\n      <td>465.76</td>\n    </tr>\n    <tr>\n      <th>4</th>\n      <td>5</td>\n      <td>WALM013</td>\n      <td>Irving</td>\n      <td>Sports and travel</td>\n      <td>86.31</td>\n      <td>7.0</td>\n      <td>08/02/19</td>\n      <td>10:37:00</td>\n      <td>Ewallet</td>\n      <td>5.3</td>\n      <td>0.48</td>\n      <td>604.17</td>\n    </tr>\n  </tbody>\n</table>\n</div>"
          },
          "metadata": {}
        }
      ],
      "execution_count": 21
    },
    {
      "id": "68815125-02ba-41ac-850c-1563a8df6fe0",
      "cell_type": "code",
      "source": "# STEP-2 saving my cleaned data table into new csv file \ndf_cleaned = df.dropna() \ndf_cleaned.to_csv('cleaned_data.csv', index=False)",
      "metadata": {
        "trusted": true
      },
      "outputs": [],
      "execution_count": 30
    },
    {
      "id": "3422518e-6965-44f2-b7fc-f616cfbb79ff",
      "cell_type": "code",
      "source": "",
      "metadata": {
        "trusted": true
      },
      "outputs": [],
      "execution_count": null
    }
  ]
}